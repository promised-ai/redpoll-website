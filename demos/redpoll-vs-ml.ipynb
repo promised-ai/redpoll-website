{
 "cells": [
  {
   "cell_type": "markdown",
   "metadata": {},
   "source": [
    "# Redpoll vs machine learning"
   ]
  },
  {
   "cell_type": "code",
   "execution_count": 1,
   "metadata": {},
   "outputs": [],
   "source": [
    "with open('paths.txt') as f:\n",
    "    paths = {}\n",
    "    for line in f.readlines():\n",
    "        filename, path = line.split('=')\n",
    "        paths[filename.strip()] = path.strip()\n",
    "        \n",
    "path = paths['satellites']"
   ]
  },
  {
   "cell_type": "markdown",
   "metadata": {},
   "source": [
    "# Data Preparation and Training"
   ]
  },
  {
   "cell_type": "code",
   "execution_count": 2,
   "metadata": {},
   "outputs": [
    {
     "data": {
      "text/plain": [
       "(1164, 20)"
      ]
     },
     "execution_count": 2,
     "metadata": {},
     "output_type": "execute_result"
    }
   ],
   "source": [
    "import pandas as pd\n",
    "\n",
    "df = pd.read_csv(path, index_col=0)\n",
    "df.shape"
   ]
  },
  {
   "cell_type": "code",
   "execution_count": 3,
   "metadata": {},
   "outputs": [],
   "source": [
    "continuous_columns = [\n",
    "    'Perigee_km', 'Apogee_km', 'Eccentricity',\n",
    "    'Period_minutes', 'Launch_Mass_kg',\n",
    "    'Dry_Mass_kg', 'Power_watts',\n",
    "    'Date_of_Launch', 'Expected_Lifetime',\n",
    "    'longitude_radians_of_geo',\n",
    "    'Inclination_radians'\n",
    "]\n",
    "\n",
    "target_column = \"Expected_Lifetime\"\n",
    "\n",
    "for col in list(df.columns):\n",
    "    # don't mess w/ the target\n",
    "    if col == target_column:\n",
    "        continue\n",
    "        \n",
    "    if col in continuous_columns:\n",
    "        # fill in missing values with mean\n",
    "        df[col].fillna(df[col].median(), inplace=True)\n",
    "        \n",
    "    else:\n",
    "        # fill in missing values with mode\n",
    "        df[col].fillna(df[col].mode()[0], inplace=True)\n",
    "        \n",
    "        # convert strings to categories\n",
    "        df[col] = df[col].astype('category').cat.codes\n",
    "\n",
    "        # create and lable one-hot features\n",
    "        one_hot = pd.get_dummies(df[col])\n",
    "        one_hot.columns = [\"%s_%d\" % (col, label) for\n",
    "                           label in one_hot]\n",
    "        \n",
    "        # replace categorical column w/ one-hot dummies\n",
    "        df.drop([col], axis=1)\n",
    "        df = pd.concat([df, one_hot], axis=1)"
   ]
  },
  {
   "cell_type": "code",
   "execution_count": 4,
   "metadata": {},
   "outputs": [
    {
     "data": {
      "text/plain": [
       "(878, 432)"
      ]
     },
     "execution_count": 4,
     "metadata": {},
     "output_type": "execute_result"
    }
   ],
   "source": [
    "df_el_in = df.loc[~df[target_column].isnull(), :]\n",
    "df_el_out = df.loc[df[target_column].isnull(), :]\n",
    "df_el_in.shape"
   ]
  },
  {
   "cell_type": "code",
   "execution_count": 5,
   "metadata": {},
   "outputs": [
    {
     "data": {
      "text/plain": [
       "RandomForestRegressor()"
      ]
     },
     "execution_count": 5,
     "metadata": {},
     "output_type": "execute_result"
    }
   ],
   "source": [
    "from sklearn.ensemble import RandomForestRegressor\n",
    "\n",
    "\n",
    "el_predictor_columns = [col for col in df_el_in.columns if\n",
    "                        col != target_column]\n",
    "el_x = df_el_in.drop(target_column, axis=1)\n",
    "el_y = df_el_in[target_column]\n",
    "\n",
    "rf_el = RandomForestRegressor()\n",
    "rf_el.fit(el_x, el_y)"
   ]
  },
  {
   "cell_type": "code",
   "execution_count": 6,
   "metadata": {},
   "outputs": [],
   "source": [
    "# DO NOT INCLUDE IN DEMO OUTPUT\n"
   ]
  },
  {
   "cell_type": "markdown",
   "metadata": {},
   "source": [
    "# Parameter Selection, Feature Selection, and Validation"
   ]
  },
  {
   "cell_type": "code",
   "execution_count": 7,
   "metadata": {},
   "outputs": [],
   "source": [
    "from sklearn.ensemble import RandomForestRegressor\n",
    "from sklearn.model_selection import cross_validate"
   ]
  },
  {
   "cell_type": "code",
   "execution_count": 8,
   "metadata": {},
   "outputs": [
    {
     "name": "stdout",
     "output_type": "stream",
     "text": [
      "CPU times: user 9min 55s, sys: 709 ms, total: 9min 55s\n",
      "Wall time: 9min 56s\n"
     ]
    }
   ],
   "source": [
    "%%time\n",
    "import itertools as it\n",
    " \n",
    "max_features = ['auto', 'sqrt', 'log2']\n",
    "criterion = ['mse', 'mae']\n",
    "n_estimators = [10, 100, 500]\n",
    " \n",
    "best_score = None\n",
    "best_params = None\n",
    "for params in it.product(max_features, criterion, n_estimators):\n",
    "    ftrs, crit, n_est = params\n",
    "    \n",
    "    estimator = RandomForestRegressor(\n",
    "        max_features=ftrs,\n",
    "        criterion=crit,\n",
    "        n_estimators=n_est\n",
    "    )\n",
    "    \n",
    "    scores = cross_validate(\n",
    "      estimator,\n",
    "      el_x,\n",
    "      el_y,\n",
    "      scoring=('r2',)\n",
    "    )\n",
    "    score = sum(scores[\"test_r2\"])\n",
    "\n",
    "    if best_score is None:\n",
    "        best_score = score\n",
    "        best_params = params\n",
    "        \n",
    "    if score > best_score:\n",
    "        best_score = score\n",
    "        best_params = params"
   ]
  },
  {
   "cell_type": "code",
   "execution_count": 9,
   "metadata": {},
   "outputs": [
    {
     "data": {
      "text/plain": [
       "('log2', 'mse', 500)"
      ]
     },
     "execution_count": 9,
     "metadata": {},
     "output_type": "execute_result"
    }
   ],
   "source": [
    "best_params"
   ]
  },
  {
   "cell_type": "code",
   "execution_count": 10,
   "metadata": {},
   "outputs": [
    {
     "data": {
      "text/plain": [
       "2.7843662111816583"
      ]
     },
     "execution_count": 10,
     "metadata": {},
     "output_type": "execute_result"
    }
   ],
   "source": [
    "best_score"
   ]
  },
  {
   "cell_type": "code",
   "execution_count": 11,
   "metadata": {},
   "outputs": [
    {
     "data": {
      "text/plain": [
       "2.5767812037034776"
      ]
     },
     "execution_count": 11,
     "metadata": {},
     "output_type": "execute_result"
    }
   ],
   "source": [
    "el_model = RandomForestRegressor(\n",
    "    max_features='sqrt',\n",
    "    criterion='mae',\n",
    "    n_estimators=100\n",
    ")\n",
    "el_model.fit(el_x, el_y)\n",
    "\n",
    "el_importance = pd.DataFrame({\n",
    "    \"Feature\": el_x.columns,\n",
    "    \"Importance\": el_model.feature_importances_\n",
    "})\n",
    "\n",
    "el_importance = el_importance\\\n",
    "    .sort_values(by=['Importance'], ascending=False)\n",
    "\n",
    "el_features = el_importance.Feature.head(20).values\n",
    "el_x2 = el_x[el_features]\n",
    "\n",
    "scores = cross_validate(\n",
    "    el_model,\n",
    "    el_x2,\n",
    "    el_y,\n",
    "    scoring=('r2',)\n",
    ")\n",
    "score = sum(scores[\"test_r2\"])\n",
    "score"
   ]
  },
  {
   "cell_type": "markdown",
   "metadata": {},
   "source": [
    "# Prediction"
   ]
  },
  {
   "cell_type": "code",
   "execution_count": 12,
   "metadata": {},
   "outputs": [],
   "source": [
    "predictors = [col for col in df_el_out.columns if\n",
    "              col != target_column]\n",
    "el_predictors = df_el_out.drop(target_column, axis=1)\n",
    "el_predictions = el_model.predict(el_predictors)"
   ]
  },
  {
   "cell_type": "markdown",
   "metadata": {},
   "source": [
    "# Classification"
   ]
  },
  {
   "cell_type": "code",
   "execution_count": 13,
   "metadata": {},
   "outputs": [],
   "source": [
    "df = pd.read_csv(path, index_col=0)\n",
    "target_column = \"Type_of_Orbit\"\n",
    " \n",
    "for col in list(df.columns):\n",
    "    # don't mess w/ the target\n",
    "    if col == target_column:\n",
    "        continue\n",
    "        \n",
    "    if col in continuous_columns:\n",
    "        # fill in missing values with mean\n",
    "        df[col].fillna(df[col].median(), inplace=True)\n",
    "        \n",
    "    else:\n",
    "        # fill in missing values with mode\n",
    "        df[col].fillna(df[col].mode()[0], inplace=True)\n",
    "        \n",
    "        # convert string categories to int codes\n",
    "        df[col] = df[col].astype('category').cat.codes\n",
    "        \n",
    "        # create and lable one-hot features\n",
    "        one_hot = pd.get_dummies(df[col])\n",
    "        one_hot.columns = [\"%s_%d\" % (col, label) for\n",
    "                           label in one_hot]\n",
    "        \n",
    "        # replace categorical column w/ one-hot dummies\n",
    "        df.drop([col], axis=1)\n",
    "        df = pd.concat([df, one_hot], axis=1)\n",
    "\n",
    "df_co_in = df.loc[~df[target_column].isnull(), :]\n",
    "df_co_out = df.loc[df[target_column].isnull(), :]"
   ]
  },
  {
   "cell_type": "code",
   "execution_count": 14,
   "metadata": {},
   "outputs": [
    {
     "data": {
      "text/plain": [
       "(519, 425)"
      ]
     },
     "execution_count": 14,
     "metadata": {},
     "output_type": "execute_result"
    }
   ],
   "source": [
    "df_co_in.shape"
   ]
  },
  {
   "cell_type": "code",
   "execution_count": 15,
   "metadata": {},
   "outputs": [
    {
     "data": {
      "text/plain": [
       "(645, 425)"
      ]
     },
     "execution_count": 15,
     "metadata": {},
     "output_type": "execute_result"
    }
   ],
   "source": [
    "df_co_out.shape"
   ]
  },
  {
   "cell_type": "code",
   "execution_count": 16,
   "metadata": {},
   "outputs": [
    {
     "name": "stderr",
     "output_type": "stream",
     "text": [
      "/Users/bax/.local/share/virtualenvs/demos-cxGizJPl/lib/python3.8/site-packages/sklearn/model_selection/_split.py:670: UserWarning: The least populated class in y has only 1 members, which is less than n_splits=5.\n",
      "  warnings.warn((\"The least populated class in y has only %d\"\n",
      "/Users/bax/.local/share/virtualenvs/demos-cxGizJPl/lib/python3.8/site-packages/sklearn/model_selection/_split.py:670: UserWarning: The least populated class in y has only 1 members, which is less than n_splits=5.\n",
      "  warnings.warn((\"The least populated class in y has only %d\"\n",
      "/Users/bax/.local/share/virtualenvs/demos-cxGizJPl/lib/python3.8/site-packages/sklearn/model_selection/_split.py:670: UserWarning: The least populated class in y has only 1 members, which is less than n_splits=5.\n",
      "  warnings.warn((\"The least populated class in y has only %d\"\n",
      "/Users/bax/.local/share/virtualenvs/demos-cxGizJPl/lib/python3.8/site-packages/sklearn/model_selection/_split.py:670: UserWarning: The least populated class in y has only 1 members, which is less than n_splits=5.\n",
      "  warnings.warn((\"The least populated class in y has only %d\"\n",
      "/Users/bax/.local/share/virtualenvs/demos-cxGizJPl/lib/python3.8/site-packages/sklearn/model_selection/_split.py:670: UserWarning: The least populated class in y has only 1 members, which is less than n_splits=5.\n",
      "  warnings.warn((\"The least populated class in y has only %d\"\n",
      "/Users/bax/.local/share/virtualenvs/demos-cxGizJPl/lib/python3.8/site-packages/sklearn/model_selection/_split.py:670: UserWarning: The least populated class in y has only 1 members, which is less than n_splits=5.\n",
      "  warnings.warn((\"The least populated class in y has only %d\"\n",
      "/Users/bax/.local/share/virtualenvs/demos-cxGizJPl/lib/python3.8/site-packages/sklearn/model_selection/_split.py:670: UserWarning: The least populated class in y has only 1 members, which is less than n_splits=5.\n",
      "  warnings.warn((\"The least populated class in y has only %d\"\n",
      "/Users/bax/.local/share/virtualenvs/demos-cxGizJPl/lib/python3.8/site-packages/sklearn/model_selection/_split.py:670: UserWarning: The least populated class in y has only 1 members, which is less than n_splits=5.\n",
      "  warnings.warn((\"The least populated class in y has only %d\"\n",
      "/Users/bax/.local/share/virtualenvs/demos-cxGizJPl/lib/python3.8/site-packages/sklearn/model_selection/_split.py:670: UserWarning: The least populated class in y has only 1 members, which is less than n_splits=5.\n",
      "  warnings.warn((\"The least populated class in y has only %d\"\n",
      "/Users/bax/.local/share/virtualenvs/demos-cxGizJPl/lib/python3.8/site-packages/sklearn/model_selection/_split.py:670: UserWarning: The least populated class in y has only 1 members, which is less than n_splits=5.\n",
      "  warnings.warn((\"The least populated class in y has only %d\"\n",
      "/Users/bax/.local/share/virtualenvs/demos-cxGizJPl/lib/python3.8/site-packages/sklearn/model_selection/_split.py:670: UserWarning: The least populated class in y has only 1 members, which is less than n_splits=5.\n",
      "  warnings.warn((\"The least populated class in y has only %d\"\n",
      "/Users/bax/.local/share/virtualenvs/demos-cxGizJPl/lib/python3.8/site-packages/sklearn/model_selection/_split.py:670: UserWarning: The least populated class in y has only 1 members, which is less than n_splits=5.\n",
      "  warnings.warn((\"The least populated class in y has only %d\"\n",
      "/Users/bax/.local/share/virtualenvs/demos-cxGizJPl/lib/python3.8/site-packages/sklearn/model_selection/_split.py:670: UserWarning: The least populated class in y has only 1 members, which is less than n_splits=5.\n",
      "  warnings.warn((\"The least populated class in y has only %d\"\n",
      "/Users/bax/.local/share/virtualenvs/demos-cxGizJPl/lib/python3.8/site-packages/sklearn/model_selection/_split.py:670: UserWarning: The least populated class in y has only 1 members, which is less than n_splits=5.\n",
      "  warnings.warn((\"The least populated class in y has only %d\"\n",
      "/Users/bax/.local/share/virtualenvs/demos-cxGizJPl/lib/python3.8/site-packages/sklearn/model_selection/_split.py:670: UserWarning: The least populated class in y has only 1 members, which is less than n_splits=5.\n",
      "  warnings.warn((\"The least populated class in y has only %d\"\n",
      "/Users/bax/.local/share/virtualenvs/demos-cxGizJPl/lib/python3.8/site-packages/sklearn/model_selection/_split.py:670: UserWarning: The least populated class in y has only 1 members, which is less than n_splits=5.\n",
      "  warnings.warn((\"The least populated class in y has only %d\"\n",
      "/Users/bax/.local/share/virtualenvs/demos-cxGizJPl/lib/python3.8/site-packages/sklearn/model_selection/_split.py:670: UserWarning: The least populated class in y has only 1 members, which is less than n_splits=5.\n",
      "  warnings.warn((\"The least populated class in y has only %d\"\n",
      "/Users/bax/.local/share/virtualenvs/demos-cxGizJPl/lib/python3.8/site-packages/sklearn/model_selection/_split.py:670: UserWarning: The least populated class in y has only 1 members, which is less than n_splits=5.\n",
      "  warnings.warn((\"The least populated class in y has only %d\"\n"
     ]
    },
    {
     "name": "stdout",
     "output_type": "stream",
     "text": [
      "CPU times: user 25 s, sys: 95.5 ms, total: 25.1 s\n",
      "Wall time: 25.2 s\n"
     ]
    }
   ],
   "source": [
    "%%time\n",
    "co_x = df_co_in[[col for col in df_co_in.columns if\n",
    "                 col != target_column]]\n",
    "co_y = df_co_in[target_column]\n",
    "\n",
    "from sklearn.ensemble import RandomForestClassifier\n",
    "\n",
    "max_features = ['auto', 'sqrt', 'log2']\n",
    "criterion = ['gini', 'entropy']\n",
    "n_estimators = [10, 100, 500]\n",
    "\n",
    "best_score = None\n",
    "best_params = None\n",
    "all_scores = []\n",
    "for params in it.product(max_features, criterion,\n",
    "                         n_estimators):\n",
    "    ftrs, crit, n_est = params\n",
    "    \n",
    "    estimator = RandomForestClassifier(\n",
    "        max_features=ftrs,\n",
    "        criterion=crit,\n",
    "        n_estimators=n_est,\n",
    "    )\n",
    "    \n",
    "    scores = cross_validate(estimator, co_x, co_y,\n",
    "                            scoring=('f1_micro',))\n",
    "    score = sum(scores[\"test_f1_micro\"])\n",
    "    all_scores.append(score)\n",
    "    if best_score is None:\n",
    "        best_score = score\n",
    "        best_params = params\n",
    "        \n",
    "    if score > best_score:\n",
    "        best_score = score\n",
    "        best_params = params"
   ]
  },
  {
   "cell_type": "code",
   "execution_count": 17,
   "metadata": {},
   "outputs": [
    {
     "data": {
      "text/plain": [
       "(4.48777072442121, ('auto', 'gini', 10))"
      ]
     },
     "execution_count": 17,
     "metadata": {},
     "output_type": "execute_result"
    }
   ],
   "source": [
    "(best_score, best_params)"
   ]
  },
  {
   "cell_type": "code",
   "execution_count": 18,
   "metadata": {},
   "outputs": [
    {
     "name": "stderr",
     "output_type": "stream",
     "text": [
      "/Users/bax/.local/share/virtualenvs/demos-cxGizJPl/lib/python3.8/site-packages/sklearn/model_selection/_split.py:670: UserWarning: The least populated class in y has only 1 members, which is less than n_splits=5.\n",
      "  warnings.warn((\"The least populated class in y has only %d\"\n"
     ]
    },
    {
     "data": {
      "text/plain": [
       "4.5661874533233755"
      ]
     },
     "execution_count": 18,
     "metadata": {},
     "output_type": "execute_result"
    }
   ],
   "source": [
    "co_model = RandomForestClassifier(\n",
    "    max_features='auto',\n",
    "    criterion='entropy',\n",
    "    n_estimators=10\n",
    ")\n",
    "co_model.fit(co_x, co_y)\n",
    "co_importance = pd.DataFrame({\n",
    "    \"Feature\": co_x.columns,\n",
    "    \"Importance\": co_model.feature_importances_\n",
    "})\n",
    "co_importance = co_importance\\\n",
    "    .sort_values(by=['Importance'], ascending=False)\n",
    "co_features = co_importance.Feature.head(20).values\n",
    "co_x2 = co_x[co_features]\n",
    "scores = cross_validate(co_model, co_x2, co_y,\n",
    "                        scoring=('f1_micro',))\n",
    "score = sum(scores[\"test_f1_micro\"])\n",
    "score"
   ]
  },
  {
   "cell_type": "markdown",
   "metadata": {},
   "source": [
    "# Prediction Certainty"
   ]
  },
  {
   "cell_type": "code",
   "execution_count": 19,
   "metadata": {},
   "outputs": [
    {
     "name": "stderr",
     "output_type": "stream",
     "text": [
      "Failed to import duecredit due to No module named 'duecredit'\n",
      "/Users/bax/.local/share/virtualenvs/demos-cxGizJPl/lib/python3.8/site-packages/sklearn/utils/deprecation.py:143: FutureWarning: The sklearn.ensemble.forest module is  deprecated in version 0.22 and will be removed in version 0.24. The corresponding classes / functions should instead be imported from sklearn.ensemble. Anything that cannot be imported from sklearn.ensemble is now part of the private API.\n",
      "  warnings.warn(message, FutureWarning)\n",
      "/Users/bax/.local/share/virtualenvs/demos-cxGizJPl/lib/python3.8/site-packages/forestci/calibration.py:86: RuntimeWarning: overflow encountered in exp\n",
      "  g_eta_raw = np.exp(np.dot(XX, eta)) * mask\n",
      "/Users/bax/.local/share/virtualenvs/demos-cxGizJPl/lib/python3.8/site-packages/forestci/calibration.py:86: RuntimeWarning: overflow encountered in exp\n",
      "  g_eta_raw = np.exp(np.dot(XX, eta)) * mask\n"
     ]
    },
    {
     "data": {
      "text/plain": [
       "array([25.29567825, 15.60084148, 14.92409254, 24.46440549, 21.49261344,\n",
       "       25.8735099 , 15.65533839, 15.65533839, 15.64922336, 14.46928408,\n",
       "       13.97224021, 15.03269183, 15.29980005, 14.34378368, 14.79864907,\n",
       "       14.52204182, 14.57212478, 15.22525075, 14.97925583, 18.29398241,\n",
       "       14.96060358, 28.91331392, 13.679016  , 15.65433821, 16.44282146,\n",
       "       14.61110128, 14.54397613, 14.86451187, 14.5338824 , 15.13956617,\n",
       "       12.92732877, 14.92319685, 14.98319532, 14.83430341, 15.70166742,\n",
       "       15.9478725 , 15.92192739, 15.56621343, 12.79198131, 13.04866396,\n",
       "       13.97631056, 18.95748385, 16.49204568, 16.46824913, 17.29373359,\n",
       "       16.90372166, 15.72753762, 15.34009276, 16.71391435, 22.73978001,\n",
       "       17.10758019, 17.10758019, 17.147215  , 17.5897531 , 15.08673539,\n",
       "       15.07967617, 15.08673539, 15.07967617, 23.16792473, 20.53514385,\n",
       "       15.10024843, 16.47294393, 15.60854149, 15.27227335, 15.27227335,\n",
       "       14.94458393, 14.83690817, 14.66464055, 16.01166842, 13.33794086,\n",
       "       15.07152149, 13.66898172, 13.78059818, 13.09566874, 17.13060026,\n",
       "       13.80619428, 15.04204224, 14.72927877, 15.60737797, 14.28100211,\n",
       "       17.13768456, 15.68920496, 12.88889668, 15.14695642, 15.13263159,\n",
       "       16.77859   , 28.33993569, 17.76218299, 14.97500672, 27.93301114,\n",
       "       20.64030664, 15.91855457, 31.53279908, 15.81431838, 14.5097391 ,\n",
       "       17.02954623, 16.93263121, 14.45055892, 18.38379338, 18.87378661,\n",
       "       15.73954619, 15.91114576, 15.72753762, 16.18752646, 16.39441647,\n",
       "       16.54185038, 16.54185038, 16.30203215, 16.19385944, 14.74106081,\n",
       "       14.87168415, 15.87973079, 16.9145879 , 14.3832508 , 14.925657  ,\n",
       "       15.15383493, 20.52854155, 24.37322989, 24.37322989, 24.37322989,\n",
       "       24.37322989, 15.99952252, 14.83523076, 14.83523076, 36.56002638,\n",
       "       15.00124516, 14.45180357, 15.78909672, 14.81910405, 15.04536099,\n",
       "       16.3077039 , 16.3077039 , 16.3077039 , 16.3077039 , 16.3077039 ,\n",
       "       16.3077039 , 16.3077039 , 17.01959965, 17.67671725, 13.82923216,\n",
       "       14.91296954, 15.88651377, 12.68715303, 11.86586973, 14.80892364,\n",
       "       18.69989037, 18.69989037, 15.10219396, 14.66556611, 15.10219396,\n",
       "       14.66556611, 14.66556611, 14.81985727, 15.60509891, 14.39826556,\n",
       "       14.55458487, 15.26215343, 15.26215343, 13.92582243, 13.92582243,\n",
       "       17.03871657, 17.03871657, 17.79420298, 17.87835861, 13.09309956,\n",
       "       15.06127748, 12.63173757,  7.31055728, 12.65640291, 15.62148103,\n",
       "       14.96036003, 14.86564289, 15.34147176, 15.34246947, 15.33633738,\n",
       "       14.74281661, 15.0024959 , 15.23892253, 14.52350512, 14.93706904,\n",
       "       14.70310817, 14.70310817, 14.92454427, 14.3860624 , 14.44854998,\n",
       "       15.62521802, 14.36405056, 11.2725016 , 15.86438705, 19.29964912,\n",
       "       15.11299879, 15.2614914 , 14.46928408, 14.46928408, 13.33700853,\n",
       "       14.44076215, 18.856364  , 14.42063155, 14.42063155, 14.70862055,\n",
       "       19.24993375, 14.84126153, 17.35097069, 14.38880125, 14.40255016,\n",
       "       14.5993902 , 14.27467547, 15.34929619, 14.49749297, 14.74252371,\n",
       "       30.34124458, 11.87597967, 13.29014439, 15.218128  , 15.58664396,\n",
       "       20.68629956, 13.67435074, 16.35405728, 12.77415452, 13.70870268,\n",
       "       16.41837061, 19.05187621, 16.55541908, 18.28765965, 15.83282114,\n",
       "       15.57122661, 15.22352024, 14.38884603, 17.54385241, 13.60687668,\n",
       "       13.54204733, 13.50368818, 17.15388875, 14.90769712, 13.77361914,\n",
       "       13.94240362, 27.00586803, 21.83931285, 21.86929504, 19.69125962,\n",
       "       20.09801088, 21.42918911, 19.23274544, 15.37850413, 17.54823463,\n",
       "       18.98014248, 15.72631625, 15.27227335, 12.83949597, 27.76665485,\n",
       "       12.1639396 , 14.49798034, 14.15466732, 15.32447338, 14.699771  ,\n",
       "       14.97197854, 14.52708177, 12.2430416 , 11.9782687 , 11.98750103,\n",
       "       13.03584364, 13.29307975, 13.55059957, 14.03962708, 14.64827938,\n",
       "       14.93873078, 13.88451257, 14.78161825, 15.3315776 , 14.52454136,\n",
       "       14.92744576, 14.20089641, 13.08506139, 13.08506139, 13.08506139,\n",
       "       15.22374192, 17.14824201, 15.70116533, 15.70116533, 25.75286522,\n",
       "       16.17577331,  9.09714224, 12.71445962, 29.26500387, 18.93213745,\n",
       "       15.05461721])"
      ]
     },
     "execution_count": 19,
     "metadata": {},
     "output_type": "execute_result"
    }
   ],
   "source": [
    "import forestci\n",
    "forestci.random_forest_error(\n",
    "    rf_el,\n",
    "    el_x,\n",
    "    el_predictors,\n",
    ")       "
   ]
  },
  {
   "cell_type": "markdown",
   "metadata": {},
   "source": [
    "# Anomaly detection"
   ]
  },
  {
   "cell_type": "code",
   "execution_count": 20,
   "metadata": {},
   "outputs": [
    {
     "data": {
      "text/plain": [
       "ID\n",
       "Wind (International Solar-Terrestrial Program)                19700.45\n",
       "Integral (INTErnational Gamma-Ray Astrophysics Laboratory)     4032.86\n",
       "Chandra X-Ray Observatory (CXO)                                3808.92\n",
       "Tango (part of Cluster quartet, Cluster 2 FM8)                 3442.00\n",
       "Rumba (part of Cluster quartet, Cluster 2 FM5)                 3431.10\n",
       "Name: Period_minutes, dtype: float64"
      ]
     },
     "execution_count": 20,
     "metadata": {},
     "output_type": "execute_result"
    }
   ],
   "source": [
    "pm = df.Period_minutes[~df.Period_minutes.isnull()]\n",
    "pm_dist = ((pm-pm.mean())/pm.std()).abs()\n",
    "outliers = pm_dist[pm_dist > 3]\n",
    "pm = df.Period_minutes.loc[list(outliers.index)]\\\n",
    "    .sort_values(ascending=False)\n",
    "pm.head()"
   ]
  }
 ],
 "metadata": {
  "kernelspec": {
   "display_name": "Python 3",
   "language": "python",
   "name": "python3"
  },
  "language_info": {
   "codemirror_mode": {
    "name": "ipython",
    "version": 3
   },
   "file_extension": ".py",
   "mimetype": "text/x-python",
   "name": "python",
   "nbconvert_exporter": "python",
   "pygments_lexer": "ipython3",
   "version": "3.8.4"
  }
 },
 "nbformat": 4,
 "nbformat_minor": 4
}
